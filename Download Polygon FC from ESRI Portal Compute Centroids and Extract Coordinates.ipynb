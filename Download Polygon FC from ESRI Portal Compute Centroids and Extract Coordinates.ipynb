{
 "cells": [
  {
   "cell_type": "code",
   "execution_count": null,
   "metadata": {},
   "outputs": [],
   "source": [
    "#AZURE\n",
    "from azure.identity import DefaultAzureCredential\n",
    "from azure.identity import ManagedIdentityCredential\n",
    "from azure.keyvault.secrets import SecretClient\n",
    "from azure.storage.blob import BlockBlobService\n",
    "from azure.storage.blob import ContentSettings\n",
    "import time\n",
    "#GENERAL\n",
    "import http.client\n",
    "import mimetypes\n",
    "import json\n",
    "import requests\n",
    "from pandas import json_normalize\n",
    "import sys, os\n",
    "import pandas as pd\n",
    "import datetime\n",
    "from copy import deepcopy\n",
    "#ARCGIS\n",
    "from arcgis.features.manage_data import dissolve_boundaries\n",
    "from arcgis.features.find_locations import find_centroids\n",
    "from arcgis.geometry import from_geo_coordinate_string\n",
    "from arcgis.geocoding import geocode\n",
    "from arcgis.geometry import lengths, areas_and_lengths, project\n",
    "from arcgis.geometry import Point, Polyline, Polygon, Geometry\n",
    "from arcgis.gis import GIS\n",
    "import arcgis\n",
    "from arcgis import geometry \n",
    "from arcgis import features\n",
    "from arcgis.geoanalytics import manage_data\n",
    "from arcgis.features.manage_data import overlay_layers\n",
    "from arcgis.features import GeoAccessor, GeoSeriesAccessor, FeatureLayer\n",
    "from arcgis.features import FeatureLayerCollection"
   ]
  },
  {
   "cell_type": "code",
   "execution_count": null,
   "metadata": {},
   "outputs": [],
   "source": [
    "gis=GIS(\"https://domain.arcgis.com\", \"UserName\", \"Password\")"
   ]
  },
  {
   "cell_type": "markdown",
   "metadata": {},
   "source": [
    "# Download Polygon Feature Class and create a spatia enabled datframe"
   ]
  },
  {
   "cell_type": "code",
   "execution_count": null,
   "metadata": {},
   "outputs": [],
   "source": [
    "\n",
    "item=gis.content.get('Feature Class ID')\n",
    "l=item.layers[0]\n",
    "#df=l.query(out_fields='*', return_centroid=True).sdf# Will give Enabled DataFrames with Centroids\n",
    "#df=l.query(where=\"ID='123'\",out_fields='*', return_centroid=True).sdf#Will give  Enabled DataFrames with Centroids for 123 IN id Field\n",
    "df=l.query(where=\"ID ('123','124')\",out_fields='*', return_centroid=True).sdf#Will give  Enabled DataFrames with Centroids for 123 AND 124 IN id Field\n"
   ]
  },
  {
   "cell_type": "markdown",
   "metadata": {},
   "source": [
    "###  Dissolves downloaded Polygon Feature Class on the named fields and publishes new feature collection Called \"findcentroids\""
   ]
  },
  {
   "cell_type": "code",
   "execution_count": null,
   "metadata": {},
   "outputs": [],
   "source": [
    "dissolve_fields=['ID','Name']\n",
    "point_centroid = dissolve_boundaries(l, dissolve_fields,estimate=True,output_name='findcentroids', future=True)\n"
   ]
  },
  {
   "cell_type": "markdown",
   "metadata": {},
   "source": [
    "###  Searches \"findcentroids\" allowing 80 seconds latency, and returns its portal ID"
   ]
  },
  {
   "cell_type": "code",
   "execution_count": null,
   "metadata": {},
   "outputs": [],
   "source": [
    "#import datetime\n",
    "item = gis.content.search(\"findcentroids\",item_type=\"Feature Layer Collection\")\n",
    "while len(item)==0:\n",
    "    time.sleep(80)\n",
    "    item = gis.content.search(\"findcentroids\",item_type=\"Feature Layer Collection\")#print (len(gis.content.search(\"findcentroids\",item_type=\"Feature Layer Collection\")))\n",
    "    print(item[0].id)\n"
   ]
  },
  {
   "cell_type": "code",
   "execution_count": null,
   "metadata": {},
   "outputs": [],
   "source": [
    "### Using ID acquired above download the findcentroids and computes centroids creating a new feature collection layer called \"HealthLyrPolygonToPoint\""
   ]
  },
  {
   "cell_type": "code",
   "execution_count": null,
   "metadata": {},
   "outputs": [],
   "source": [
    "c= gis.content.get('{}'.format(item[0].id)).layers[0]\n",
    "poly_to_point = find_centroids(c, output_name=\"HealthLyrPolygonToPoint\", future=True)"
   ]
  },
  {
   "cell_type": "markdown",
   "metadata": {},
   "source": [
    "###  Searches \"HealthLyrPolygonToPoint\" allowing 80 seconds latency, and returns its portal ID"
   ]
  },
  {
   "cell_type": "code",
   "execution_count": null,
   "metadata": {},
   "outputs": [],
   "source": [
    "items = gis.content.search(\"HealthLyrPolygonToPoint\",item_type=\"Feature Layer Collection\")\n",
    "while len(items)==0:\n",
    "    time.sleep(80)\n",
    "    items = gis.content.search(\"HealthLyrPolygonToPoint\",item_type=\"Feature Layer Collection\")#print (len(gis.content.search(\"findcentroids\",item_type=\"Feature Layer Collection\")))\n",
    "    print(items[0].id)\n",
    "  "
   ]
  },
  {
   "cell_type": "code",
   "execution_count": null,
   "metadata": {},
   "outputs": [],
   "source": [
    "pd.set_option(\"max_rows\", None)# Display maximum rows for any datframe in the notebook"
   ]
  },
  {
   "cell_type": "code",
   "execution_count": null,
   "metadata": {},
   "outputs": [],
   "source": [
    "### Using ID acquired above download the HealthLyrPolygonToPoint and creates a spatially enabled dataframe in memory called table"
   ]
  },
  {
   "cell_type": "code",
   "execution_count": null,
   "metadata": {},
   "outputs": [],
   "source": [
    "  \n",
    "table= gis.content.get('{}'.format(item[0].id)).layers[0].query().sdf\n",
    "\n",
    "table\n"
   ]
  },
  {
   "cell_type": "markdown",
   "metadata": {},
   "source": [
    "# Compute Coordinates from the table's column called SHAPE ***SHAPE is of dtype geometry"
   ]
  },
  {
   "cell_type": "code",
   "execution_count": null,
   "metadata": {},
   "outputs": [],
   "source": [
    "table=table.assign(Long=table.SHAPE.astype(str).apply(lambda x: Point(x).coordinates()).str[0],Lat=table.SHAPE.astype(str).apply(lambda x: Point(x).coordinates()).str[1])\n",
    "table\n"
   ]
  },
  {
   "cell_type": "markdown",
   "metadata": {},
   "source": [
    "# Delete Layers HealthLyrPolygonToPoint and  findcentroids from Portal"
   ]
  },
  {
   "cell_type": "code",
   "execution_count": null,
   "metadata": {},
   "outputs": [],
   "source": [
    "gis.content.search(\"HealthLyrPolygonToPoint\")[0].delete()"
   ]
  },
  {
   "cell_type": "code",
   "execution_count": null,
   "metadata": {},
   "outputs": [],
   "source": [
    "gis.content.search(\"findcentroids\")[0].delete()\n"
   ]
  }
 ],
 "metadata": {
  "kernelspec": {
   "display_name": "Python 3",
   "language": "python",
   "name": "python3"
  },
  "language_info": {
   "codemirror_mode": {
    "name": "ipython",
    "version": 3
   },
   "file_extension": ".py",
   "mimetype": "text/x-python",
   "name": "python",
   "nbconvert_exporter": "python",
   "pygments_lexer": "ipython3",
   "version": "3.8.5"
  }
 },
 "nbformat": 4,
 "nbformat_minor": 4
}